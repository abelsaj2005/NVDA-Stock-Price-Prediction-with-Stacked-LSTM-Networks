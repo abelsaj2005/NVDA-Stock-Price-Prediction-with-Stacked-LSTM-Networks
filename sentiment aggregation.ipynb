{
 "cells": [
  {
   "cell_type": "code",
   "execution_count": 18,
   "metadata": {},
   "outputs": [],
   "source": [
    "import numpy as np\n",
    "import pandas as pd"
   ]
  },
  {
   "cell_type": "code",
   "execution_count": 19,
   "metadata": {},
   "outputs": [
    {
     "name": "stderr",
     "output_type": "stream",
     "text": [
      "/var/folders/s2/04l93vjs1sd427p8mgfj27fh0000gn/T/ipykernel_76021/3529677599.py:3: UserWarning: Could not infer format, so each element will be parsed individually, falling back to `dateutil`. To ensure parsing is consistent and as-expected, please specify a format.\n",
      "  nvda_sentiment['Date'] = pd.to_datetime(nvda_sentiment['datetime']).dt.date\n"
     ]
    },
    {
     "data": {
      "text/html": [
       "<div>\n",
       "<style scoped>\n",
       "    .dataframe tbody tr th:only-of-type {\n",
       "        vertical-align: middle;\n",
       "    }\n",
       "\n",
       "    .dataframe tbody tr th {\n",
       "        vertical-align: top;\n",
       "    }\n",
       "\n",
       "    .dataframe thead th {\n",
       "        text-align: right;\n",
       "    }\n",
       "</style>\n",
       "<table border=\"1\" class=\"dataframe\">\n",
       "  <thead>\n",
       "    <tr style=\"text-align: right;\">\n",
       "      <th></th>\n",
       "      <th>title</th>\n",
       "      <th>sentiment_label</th>\n",
       "      <th>sentiment_score</th>\n",
       "      <th>Date</th>\n",
       "    </tr>\n",
       "  </thead>\n",
       "  <tbody>\n",
       "    <tr>\n",
       "      <th>0</th>\n",
       "      <td>5 Top Stock Trades for Tuesday: NVDA, TSLA, GILD</td>\n",
       "      <td>Neutral</td>\n",
       "      <td>0.999999</td>\n",
       "      <td>2019-11-25</td>\n",
       "    </tr>\n",
       "    <tr>\n",
       "      <th>1</th>\n",
       "      <td>Stock Market Today: Merger Monday; Tesla’s Cyb...</td>\n",
       "      <td>Neutral</td>\n",
       "      <td>0.999994</td>\n",
       "      <td>2019-11-25</td>\n",
       "    </tr>\n",
       "    <tr>\n",
       "      <th>2</th>\n",
       "      <td>10 Fantastic Tech Gifts to Buy for $500 and Up</td>\n",
       "      <td>Positive</td>\n",
       "      <td>0.985829</td>\n",
       "      <td>2019-11-26</td>\n",
       "    </tr>\n",
       "    <tr>\n",
       "      <th>3</th>\n",
       "      <td>Shares Could Go Higher, but Nvidia Stock Is Ov...</td>\n",
       "      <td>Negative</td>\n",
       "      <td>0.991712</td>\n",
       "      <td>2019-11-26</td>\n",
       "    </tr>\n",
       "    <tr>\n",
       "      <th>4</th>\n",
       "      <td>Tuesday’s Vital Data: Nvidia, Bank of America ...</td>\n",
       "      <td>Neutral</td>\n",
       "      <td>0.999958</td>\n",
       "      <td>2019-11-26</td>\n",
       "    </tr>\n",
       "    <tr>\n",
       "      <th>...</th>\n",
       "      <td>...</td>\n",
       "      <td>...</td>\n",
       "      <td>...</td>\n",
       "      <td>...</td>\n",
       "    </tr>\n",
       "    <tr>\n",
       "      <th>8944</th>\n",
       "      <td>Quantum announces support for ‘NVIDIA GPUDirec...</td>\n",
       "      <td>Positive</td>\n",
       "      <td>0.998504</td>\n",
       "      <td>2024-12-18</td>\n",
       "    </tr>\n",
       "    <tr>\n",
       "      <th>8945</th>\n",
       "      <td>4 stocks to watch on Wednesday: GIS, MU and more</td>\n",
       "      <td>Neutral</td>\n",
       "      <td>0.999953</td>\n",
       "      <td>2024-12-18</td>\n",
       "    </tr>\n",
       "    <tr>\n",
       "      <th>8946</th>\n",
       "      <td>Notable open interest changes for December 18th</td>\n",
       "      <td>Neutral</td>\n",
       "      <td>0.999996</td>\n",
       "      <td>2024-12-18</td>\n",
       "    </tr>\n",
       "    <tr>\n",
       "      <th>8947</th>\n",
       "      <td>Early notable gainers among liquid option name...</td>\n",
       "      <td>Positive</td>\n",
       "      <td>0.940363</td>\n",
       "      <td>2024-12-18</td>\n",
       "    </tr>\n",
       "    <tr>\n",
       "      <th>8948</th>\n",
       "      <td>Biggest stock movers Wednesday: NVDA, JBL, COM...</td>\n",
       "      <td>Neutral</td>\n",
       "      <td>0.995883</td>\n",
       "      <td>2024-12-18</td>\n",
       "    </tr>\n",
       "  </tbody>\n",
       "</table>\n",
       "<p>8949 rows × 4 columns</p>\n",
       "</div>"
      ],
      "text/plain": [
       "                                                  title sentiment_label  \\\n",
       "0      5 Top Stock Trades for Tuesday: NVDA, TSLA, GILD         Neutral   \n",
       "1     Stock Market Today: Merger Monday; Tesla’s Cyb...         Neutral   \n",
       "2        10 Fantastic Tech Gifts to Buy for $500 and Up        Positive   \n",
       "3     Shares Could Go Higher, but Nvidia Stock Is Ov...        Negative   \n",
       "4     Tuesday’s Vital Data: Nvidia, Bank of America ...         Neutral   \n",
       "...                                                 ...             ...   \n",
       "8944  Quantum announces support for ‘NVIDIA GPUDirec...        Positive   \n",
       "8945   4 stocks to watch on Wednesday: GIS, MU and more         Neutral   \n",
       "8946    Notable open interest changes for December 18th         Neutral   \n",
       "8947  Early notable gainers among liquid option name...        Positive   \n",
       "8948  Biggest stock movers Wednesday: NVDA, JBL, COM...         Neutral   \n",
       "\n",
       "      sentiment_score        Date  \n",
       "0            0.999999  2019-11-25  \n",
       "1            0.999994  2019-11-25  \n",
       "2            0.985829  2019-11-26  \n",
       "3            0.991712  2019-11-26  \n",
       "4            0.999958  2019-11-26  \n",
       "...               ...         ...  \n",
       "8944         0.998504  2024-12-18  \n",
       "8945         0.999953  2024-12-18  \n",
       "8946         0.999996  2024-12-18  \n",
       "8947         0.940363  2024-12-18  \n",
       "8948         0.995883  2024-12-18  \n",
       "\n",
       "[8949 rows x 4 columns]"
      ]
     },
     "execution_count": 19,
     "metadata": {},
     "output_type": "execute_result"
    }
   ],
   "source": [
    "nvda_sentiment = pd.read_csv('nvda.csv')\n",
    "nvda_sentiment = nvda_sentiment.drop(['source', 'link', 'Unnamed: 0', 'Unnamed: 0.1'], axis = 1)\n",
    "nvda_sentiment['Date'] = pd.to_datetime(nvda_sentiment['datetime']).dt.date\n",
    "nvda_sentiment.drop('datetime', axis = 1)"
   ]
  },
  {
   "cell_type": "code",
   "execution_count": 20,
   "metadata": {},
   "outputs": [],
   "source": [
    "daily_sentiment = nvda_sentiment.groupby('Date').agg({\n",
    "    'sentiment_label' : lambda x : x.value_counts().to_dict(),\n",
    "    'sentiment_score': 'mean'\n",
    "}).reset_index()\n",
    "\n",
    "def net_sentiment_score(row):\n",
    "    sentiment_counts = row['sentiment_label']\n",
    "    net_score = (sentiment_counts.get('Positive', 0)) - (sentiment_counts.get('Negative', 0))\n",
    "    total_counts = sum(sentiment_counts.values())\n",
    "    if total_counts == 0:\n",
    "        return 0\n",
    "    else: \n",
    "        return net_score / total_counts"
   ]
  },
  {
   "cell_type": "code",
   "execution_count": 21,
   "metadata": {},
   "outputs": [],
   "source": [
    "daily_sentiment['Net Sentiment Score'] = daily_sentiment.apply(net_sentiment_score, axis = 1)"
   ]
  },
  {
   "cell_type": "code",
   "execution_count": 22,
   "metadata": {},
   "outputs": [],
   "source": [
    "daily_sentiment.to_csv('nvda_sentiment_aggregated_new.csv', index = False)"
   ]
  },
  {
   "cell_type": "code",
   "execution_count": null,
   "metadata": {},
   "outputs": [],
   "source": []
  }
 ],
 "metadata": {
  "kernelspec": {
   "display_name": "base",
   "language": "python",
   "name": "python3"
  },
  "language_info": {
   "codemirror_mode": {
    "name": "ipython",
    "version": 3
   },
   "file_extension": ".py",
   "mimetype": "text/x-python",
   "name": "python",
   "nbconvert_exporter": "python",
   "pygments_lexer": "ipython3",
   "version": "3.12.4"
  }
 },
 "nbformat": 4,
 "nbformat_minor": 2
}

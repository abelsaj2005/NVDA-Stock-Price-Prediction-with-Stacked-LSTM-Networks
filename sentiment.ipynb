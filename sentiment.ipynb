{
 "cells": [
  {
   "cell_type": "code",
   "execution_count": 44,
   "metadata": {},
   "outputs": [],
   "source": [
    "from transformers import BertTokenizer, BertForSequenceClassification\n",
    "from transformers import pipeline\n",
    "import pandas as pd"
   ]
  },
  {
   "cell_type": "code",
   "execution_count": 45,
   "metadata": {},
   "outputs": [
    {
     "name": "stderr",
     "output_type": "stream",
     "text": [
      "Device set to use mps:0\n"
     ]
    }
   ],
   "source": [
    "finbert = BertForSequenceClassification.from_pretrained('yiyanghkust/finbert-tone',num_labels=3)\n",
    "tokenizer = BertTokenizer.from_pretrained('yiyanghkust/finbert-tone')\n",
    "\n",
    "nlp = pipeline(\"sentiment-analysis\", model=finbert, tokenizer=tokenizer)"
   ]
  },
  {
   "cell_type": "code",
   "execution_count": 46,
   "metadata": {},
   "outputs": [
    {
     "data": {
      "text/html": [
       "<div>\n",
       "<style scoped>\n",
       "    .dataframe tbody tr th:only-of-type {\n",
       "        vertical-align: middle;\n",
       "    }\n",
       "\n",
       "    .dataframe tbody tr th {\n",
       "        vertical-align: top;\n",
       "    }\n",
       "\n",
       "    .dataframe thead th {\n",
       "        text-align: right;\n",
       "    }\n",
       "</style>\n",
       "<table border=\"1\" class=\"dataframe\">\n",
       "  <thead>\n",
       "    <tr style=\"text-align: right;\">\n",
       "      <th></th>\n",
       "      <th>Unnamed: 0</th>\n",
       "      <th>title</th>\n",
       "      <th>datetime</th>\n",
       "      <th>source</th>\n",
       "      <th>link</th>\n",
       "      <th>sentiment_label</th>\n",
       "      <th>sentiment_score</th>\n",
       "    </tr>\n",
       "  </thead>\n",
       "  <tbody>\n",
       "    <tr>\n",
       "      <th>0</th>\n",
       "      <td>0</td>\n",
       "      <td>5 Top Stock Trades for Tuesday: NVDA, TSLA, GILD</td>\n",
       "      <td>11/25/2019 9:11:58 PM</td>\n",
       "      <td>InvestorPlace</td>\n",
       "      <td>/news/stocks/5-top-stock-trades-for-tuesday-nv...</td>\n",
       "      <td>NaN</td>\n",
       "      <td>0</td>\n",
       "    </tr>\n",
       "    <tr>\n",
       "      <th>1</th>\n",
       "      <td>1</td>\n",
       "      <td>Stock Market Today: Merger Monday; Tesla’s Cyb...</td>\n",
       "      <td>11/25/2019 9:26:20 PM</td>\n",
       "      <td>InvestorPlace</td>\n",
       "      <td>/news/stocks/stock-market-today-merger-monday-...</td>\n",
       "      <td>NaN</td>\n",
       "      <td>0</td>\n",
       "    </tr>\n",
       "    <tr>\n",
       "      <th>2</th>\n",
       "      <td>2</td>\n",
       "      <td>10 Fantastic Tech Gifts to Buy for $500 and Up</td>\n",
       "      <td>11/26/2019 11:00:01 AM</td>\n",
       "      <td>InvestorPlace</td>\n",
       "      <td>/news/stocks/10-fantastic-tech-gifts-to-buy-fo...</td>\n",
       "      <td>NaN</td>\n",
       "      <td>0</td>\n",
       "    </tr>\n",
       "    <tr>\n",
       "      <th>3</th>\n",
       "      <td>3</td>\n",
       "      <td>Shares Could Go Higher, but Nvidia Stock Is Ov...</td>\n",
       "      <td>11/26/2019 2:08:09 PM</td>\n",
       "      <td>InvestorPlace</td>\n",
       "      <td>/news/stocks/nvidia-stock-overvalued-higher-10...</td>\n",
       "      <td>NaN</td>\n",
       "      <td>0</td>\n",
       "    </tr>\n",
       "    <tr>\n",
       "      <th>4</th>\n",
       "      <td>4</td>\n",
       "      <td>Tuesday’s Vital Data: Nvidia, Bank of America ...</td>\n",
       "      <td>11/26/2019 2:22:29 PM</td>\n",
       "      <td>InvestorPlace</td>\n",
       "      <td>/news/stocks/tuesdays-vital-data-nvidia-bank-o...</td>\n",
       "      <td>NaN</td>\n",
       "      <td>0</td>\n",
       "    </tr>\n",
       "    <tr>\n",
       "      <th>...</th>\n",
       "      <td>...</td>\n",
       "      <td>...</td>\n",
       "      <td>...</td>\n",
       "      <td>...</td>\n",
       "      <td>...</td>\n",
       "      <td>...</td>\n",
       "      <td>...</td>\n",
       "    </tr>\n",
       "    <tr>\n",
       "      <th>8944</th>\n",
       "      <td>8944</td>\n",
       "      <td>Quantum announces support for ‘NVIDIA GPUDirec...</td>\n",
       "      <td>12/18/2024 1:15:33 PM</td>\n",
       "      <td>TipRanks</td>\n",
       "      <td>/news/stocks/quantum-announces-support-for-nvi...</td>\n",
       "      <td>NaN</td>\n",
       "      <td>0</td>\n",
       "    </tr>\n",
       "    <tr>\n",
       "      <th>8945</th>\n",
       "      <td>8945</td>\n",
       "      <td>4 stocks to watch on Wednesday: GIS, MU and more</td>\n",
       "      <td>12/18/2024 1:55:00 PM</td>\n",
       "      <td>Seeking Alpha</td>\n",
       "      <td>https://seekingalpha.com/news/4387654-4-stocks...</td>\n",
       "      <td>NaN</td>\n",
       "      <td>0</td>\n",
       "    </tr>\n",
       "    <tr>\n",
       "      <th>8946</th>\n",
       "      <td>8946</td>\n",
       "      <td>Notable open interest changes for December 18th</td>\n",
       "      <td>12/18/2024 2:02:43 PM</td>\n",
       "      <td>TipRanks</td>\n",
       "      <td>/news/stocks/notable-open-interest-changes-for...</td>\n",
       "      <td>NaN</td>\n",
       "      <td>0</td>\n",
       "    </tr>\n",
       "    <tr>\n",
       "      <th>8947</th>\n",
       "      <td>8947</td>\n",
       "      <td>Early notable gainers among liquid option name...</td>\n",
       "      <td>12/18/2024 2:55:13 PM</td>\n",
       "      <td>TipRanks</td>\n",
       "      <td>/news/stocks/early-notable-gainers-among-liqui...</td>\n",
       "      <td>NaN</td>\n",
       "      <td>0</td>\n",
       "    </tr>\n",
       "    <tr>\n",
       "      <th>8948</th>\n",
       "      <td>8948</td>\n",
       "      <td>Biggest stock movers Wednesday: NVDA, JBL, COM...</td>\n",
       "      <td>12/18/2024 2:59:49 PM</td>\n",
       "      <td>Seeking Alpha</td>\n",
       "      <td>https://seekingalpha.com/news/4387525-biggest-...</td>\n",
       "      <td>NaN</td>\n",
       "      <td>0</td>\n",
       "    </tr>\n",
       "  </tbody>\n",
       "</table>\n",
       "<p>8949 rows × 7 columns</p>\n",
       "</div>"
      ],
      "text/plain": [
       "      Unnamed: 0                                              title  \\\n",
       "0              0   5 Top Stock Trades for Tuesday: NVDA, TSLA, GILD   \n",
       "1              1  Stock Market Today: Merger Monday; Tesla’s Cyb...   \n",
       "2              2     10 Fantastic Tech Gifts to Buy for $500 and Up   \n",
       "3              3  Shares Could Go Higher, but Nvidia Stock Is Ov...   \n",
       "4              4  Tuesday’s Vital Data: Nvidia, Bank of America ...   \n",
       "...          ...                                                ...   \n",
       "8944        8944  Quantum announces support for ‘NVIDIA GPUDirec...   \n",
       "8945        8945   4 stocks to watch on Wednesday: GIS, MU and more   \n",
       "8946        8946    Notable open interest changes for December 18th   \n",
       "8947        8947  Early notable gainers among liquid option name...   \n",
       "8948        8948  Biggest stock movers Wednesday: NVDA, JBL, COM...   \n",
       "\n",
       "                    datetime         source  \\\n",
       "0      11/25/2019 9:11:58 PM  InvestorPlace   \n",
       "1      11/25/2019 9:26:20 PM  InvestorPlace   \n",
       "2     11/26/2019 11:00:01 AM  InvestorPlace   \n",
       "3      11/26/2019 2:08:09 PM  InvestorPlace   \n",
       "4      11/26/2019 2:22:29 PM  InvestorPlace   \n",
       "...                      ...            ...   \n",
       "8944   12/18/2024 1:15:33 PM       TipRanks   \n",
       "8945   12/18/2024 1:55:00 PM  Seeking Alpha   \n",
       "8946   12/18/2024 2:02:43 PM       TipRanks   \n",
       "8947   12/18/2024 2:55:13 PM       TipRanks   \n",
       "8948   12/18/2024 2:59:49 PM  Seeking Alpha   \n",
       "\n",
       "                                                   link  sentiment_label  \\\n",
       "0     /news/stocks/5-top-stock-trades-for-tuesday-nv...              NaN   \n",
       "1     /news/stocks/stock-market-today-merger-monday-...              NaN   \n",
       "2     /news/stocks/10-fantastic-tech-gifts-to-buy-fo...              NaN   \n",
       "3     /news/stocks/nvidia-stock-overvalued-higher-10...              NaN   \n",
       "4     /news/stocks/tuesdays-vital-data-nvidia-bank-o...              NaN   \n",
       "...                                                 ...              ...   \n",
       "8944  /news/stocks/quantum-announces-support-for-nvi...              NaN   \n",
       "8945  https://seekingalpha.com/news/4387654-4-stocks...              NaN   \n",
       "8946  /news/stocks/notable-open-interest-changes-for...              NaN   \n",
       "8947  /news/stocks/early-notable-gainers-among-liqui...              NaN   \n",
       "8948  https://seekingalpha.com/news/4387525-biggest-...              NaN   \n",
       "\n",
       "      sentiment_score  \n",
       "0                   0  \n",
       "1                   0  \n",
       "2                   0  \n",
       "3                   0  \n",
       "4                   0  \n",
       "...               ...  \n",
       "8944                0  \n",
       "8945                0  \n",
       "8946                0  \n",
       "8947                0  \n",
       "8948                0  \n",
       "\n",
       "[8949 rows x 7 columns]"
      ]
     },
     "execution_count": 46,
     "metadata": {},
     "output_type": "execute_result"
    }
   ],
   "source": [
    "df = pd.read_csv('nvda.csv')\n",
    "df\n"
   ]
  },
  {
   "cell_type": "code",
   "execution_count": 47,
   "metadata": {},
   "outputs": [],
   "source": [
    "def calculate_sentiment_score(row):\n",
    "    text = row['title']\n",
    "    result = nlp(text)\n",
    "    return result[0]['score']\n",
    "\n",
    "def calculate_sentiment_label(row):\n",
    "    text = row['title']\n",
    "    result = nlp(text)\n",
    "    return result[0]['label']"
   ]
  },
  {
   "cell_type": "code",
   "execution_count": 48,
   "metadata": {},
   "outputs": [],
   "source": [
    "df['sentiment_score'] = df.apply(calculate_sentiment_score, axis=1)\n",
    "df['sentiment_label'] = df.apply(calculate_sentiment_label, axis=1)"
   ]
  },
  {
   "cell_type": "code",
   "execution_count": null,
   "metadata": {},
   "outputs": [],
   "source": [
    "df.to_csv('/Users/abelsaj/Documents/Personal Coding Projects/Stock-Prediction-Model/nvda.csv')"
   ]
  },
  {
   "cell_type": "code",
   "execution_count": null,
   "metadata": {},
   "outputs": [
    {
     "data": {
      "text/plain": [
       "sentiment_label\n",
       "Neutral     4298\n",
       "Positive    3542\n",
       "Negative    1109\n",
       "Name: count, dtype: int64"
      ]
     },
     "execution_count": 55,
     "metadata": {},
     "output_type": "execute_result"
    }
   ],
   "source": [
    "df['sentiment_label'].value_counts()"
   ]
  },
  {
   "cell_type": "code",
   "execution_count": 54,
   "metadata": {},
   "outputs": [
    {
     "data": {
      "text/plain": [
       "count    8949.000000\n",
       "mean        0.952052\n",
       "std         0.108865\n",
       "min         0.347309\n",
       "25%         0.976779\n",
       "50%         0.999348\n",
       "75%         0.999986\n",
       "max         1.000000\n",
       "Name: sentiment_score, dtype: float64"
      ]
     },
     "execution_count": 54,
     "metadata": {},
     "output_type": "execute_result"
    }
   ],
   "source": [
    "df['sentiment_score'].describe()"
   ]
  },
  {
   "cell_type": "code",
   "execution_count": null,
   "metadata": {},
   "outputs": [],
   "source": []
  }
 ],
 "metadata": {
  "kernelspec": {
   "display_name": "base",
   "language": "python",
   "name": "python3"
  },
  "language_info": {
   "codemirror_mode": {
    "name": "ipython",
    "version": 3
   },
   "file_extension": ".py",
   "mimetype": "text/x-python",
   "name": "python",
   "nbconvert_exporter": "python",
   "pygments_lexer": "ipython3",
   "version": "3.12.4"
  }
 },
 "nbformat": 4,
 "nbformat_minor": 2
}
